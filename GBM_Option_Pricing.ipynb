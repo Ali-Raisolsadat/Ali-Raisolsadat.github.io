{
  "nbformat": 4,
  "nbformat_minor": 0,
  "metadata": {
    "colab": {
      "provenance": []
    },
    "kernelspec": {
      "name": "python3",
      "display_name": "Python 3"
    },
    "language_info": {
      "name": "python"
    }
  },
  "cells": [
    {
      "cell_type": "code",
      "execution_count": 19,
      "metadata": {
        "id": "3VuvKjF7M6_-"
      },
      "outputs": [],
      "source": [
        "import numpy as np"
      ]
    },
    {
      "cell_type": "code",
      "source": [
        "def call_option_payoff(S, K):\n",
        "  # Option payoff function (European call option)\n",
        "  return np.maximum(S - K, 0)\n",
        "\n",
        "def put_option_payoff(S, K):\n",
        "  # Option payoff function (European put option)\n",
        "  return np.maximum(K - S, 0)\n",
        "\n",
        "def monte_carlo_sims(S0, T, r, sigma, K, n_t, n_sims, option_type):\n",
        "  # This function generates monte carlo paths for the risky asset using\n",
        "  # geometric Brownian motion and uses arithmetic average to\n",
        "  # estimate the option (call or put) price.\n",
        "\n",
        "  # Simulate the risky asset's price path using geometric Brownian motion\n",
        "  dt = T / n_t\n",
        "  risky_returns = np.exp((r - 0.5 * sigma**2) * dt + sigma * np.sqrt(dt) * np.random.randn(n_sims, n_t))\n",
        "  risky_prices = S0 * np.cumprod(risky_returns, axis=1)\n",
        "\n",
        "  # Compute the option's payoff at expiration for each simulation\n",
        "  if option_type == 'call':\n",
        "    option_payoffs = call_option_payoff(risky_prices[:, -1], K)\n",
        "  else:\n",
        "    option_payoffs = put_option_payoff(risky_prices[:, -1], K)\n",
        "\n",
        "  # Calculate the expected option payoff and discount it to present value\n",
        "  expected_payoff = np.mean(option_payoffs) # arithmetic mean\n",
        "\n",
        "  # Evaluate the present value of the option\n",
        "  option_price = np.exp(-r * T) * expected_payoff\n",
        "\n",
        "  return option_price"
      ],
      "metadata": {
        "id": "OTEhLnwPNMzA"
      },
      "execution_count": 20,
      "outputs": []
    },
    {
      "cell_type": "code",
      "source": [
        "np.random.seed(0)\n",
        "\n",
        "# Define option parameters\n",
        "stock_price = 100  # Current price of the underlying asset\n",
        "strike_price = 105   # Strike price of the option\n",
        "expiry_time = 1.0   # Time to expiration (in years)\n",
        "risk_free_rate = 0.05  # Risk-free interest rate\n",
        "volatility = 0.25  # Volatility of the underlying asset\n",
        "\n",
        "n_simulations = 50000 # number of monte carlo simulations (i.e. risky asset paths)\n",
        "n_steps = 252  # Number of time steps (daily steps for one year)\n",
        "\n",
        "# Price of a call option\n",
        "call_option_price = monte_carlo_sims(stock_price, expiry_time, risk_free_rate, volatility, strike_price, n_steps, n_simulations, 'call')\n",
        "print(f\"European call option price: {call_option_price:.2f}\")\n",
        "\n",
        "# Price of a put option\n",
        "put_option_price = monte_carlo_sims(stock_price, expiry_time, risk_free_rate, volatility, strike_price, n_steps, n_simulations, 'put')\n",
        "print(f\"European put option price: {put_option_price:.2f}\")"
      ],
      "metadata": {
        "colab": {
          "base_uri": "https://localhost:8080/"
        },
        "id": "dC-FwclxN-0A",
        "outputId": "dee97b40-12b0-45d3-b09b-caa957dc328f"
      },
      "execution_count": 21,
      "outputs": [
        {
          "output_type": "stream",
          "name": "stdout",
          "text": [
            "European call option price: 10.09\n",
            "European put option price: 9.87\n"
          ]
        }
      ]
    }
  ]
}