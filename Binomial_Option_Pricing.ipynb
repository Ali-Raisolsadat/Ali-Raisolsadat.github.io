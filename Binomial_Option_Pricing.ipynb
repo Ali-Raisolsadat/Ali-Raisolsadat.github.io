{
  "nbformat": 4,
  "nbformat_minor": 0,
  "metadata": {
    "colab": {
      "provenance": []
    },
    "kernelspec": {
      "name": "python3",
      "display_name": "Python 3"
    },
    "language_info": {
      "name": "python"
    }
  },
  "cells": [
    {
      "cell_type": "code",
      "source": [
        "import numpy as np\n",
        "import math\n",
        "import matplotlib.pyplot as plt"
      ],
      "metadata": {
        "id": "BsGawg3OtAet"
      },
      "execution_count": 1,
      "outputs": []
    },
    {
      "cell_type": "code",
      "source": [
        "def combos(n, i):\n",
        "  # This function evaluates the combinations.\n",
        "  return math.factorial(n) / (math.factorial(n-i)*math.factorial(i))\n",
        "\n",
        "def binom_eu(S0, K , T, r, sigma, N, option_type):\n",
        "  # This function evaluates the price of a\n",
        "  # European option, given option type.\n",
        "\n",
        "  # constatns\n",
        "  dt = T/N\n",
        "  u = np.exp(sigma * np.sqrt(dt))\n",
        "  d = np.exp(-sigma * np.sqrt(dt))\n",
        "  p = (np.exp(r * dt) - d)  /  (u - d) #risk-neutral probability\n",
        "  value = 0\n",
        "\n",
        "  # for-loop to evaluate the option payoffs\n",
        "  for i in range(N+1):\n",
        "    node_prob = combos(N, i) * p**i * (1-p)**(N-i) # probability at the node\n",
        "    ST = S0 * u**i * d**(N-i)  # price of underlying asset\n",
        "\n",
        "    # use appropriate payoff for the option type\n",
        "    if option_type == 'call':\n",
        "      value += max(ST-K,0) * node_prob\n",
        "    elif option_type == 'put':\n",
        "      value += max(K-ST, 0) * node_prob\n",
        "    else:\n",
        "      raise ValueError(\"Option type must be 'call' or 'put'\" )\n",
        "\n",
        "  # discount the option price\n",
        "  discounted_value =  value * np.exp(-r*T)\n",
        "\n",
        "  return discounted_value"
      ],
      "metadata": {
        "id": "6f4b3GfSO5p8"
      },
      "execution_count": 2,
      "outputs": []
    },
    {
      "cell_type": "code",
      "source": [
        "# Initial constants for pricing\n",
        "N = 4\n",
        "S0  = 100\n",
        "T = 0.5\n",
        "sigma = 0.4\n",
        "K = 105\n",
        "r = 0.05\n",
        "\n",
        "# increasing the number of tree and convergance of option price\n",
        "Ns = [2, 4, 6, 8, 10, 20, 50, 100, 200, 300, 400,500, 600]\n",
        "for n in Ns:\n",
        "  c = binom_eu(S0, K, T, r,sigma, n, 'call')\n",
        "  print(f'Price is {n} steps is {round(c,2)}')"
      ],
      "metadata": {
        "colab": {
          "base_uri": "https://localhost:8080/"
        },
        "id": "dfjSXEZiQ2-W",
        "outputId": "ba3bc65d-6b14-43f7-dcae-06d26f194988"
      },
      "execution_count": 3,
      "outputs": [
        {
          "output_type": "stream",
          "name": "stdout",
          "text": [
            "Price is 2 steps is 9.99\n",
            "Price is 4 steps is 10.29\n",
            "Price is 6 steps is 10.35\n",
            "Price is 8 steps is 10.37\n",
            "Price is 10 steps is 10.37\n",
            "Price is 20 steps is 10.34\n",
            "Price is 50 steps is 10.27\n",
            "Price is 100 steps is 10.22\n",
            "Price is 200 steps is 10.22\n",
            "Price is 300 steps is 10.23\n",
            "Price is 400 steps is 10.22\n",
            "Price is 500 steps is 10.22\n",
            "Price is 600 steps is 10.22\n"
          ]
        }
      ]
    }
  ]
}